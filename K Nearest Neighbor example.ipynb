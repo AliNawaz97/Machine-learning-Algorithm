{
 "cells": [
  {
   "cell_type": "markdown",
   "metadata": {},
   "source": [
    "# K Nearest Neighbor example\n",
    " In this example we predict the class of flower on the basis of different features that are petal legth, petal length, sepal width, sepal legth"
   ]
  },
  {
   "cell_type": "markdown",
   "metadata": {},
   "source": [
    "## Step#01 import necessary libraries"
   ]
  },
  {
   "cell_type": "code",
   "execution_count": 24,
   "metadata": {
    "collapsed": true
   },
   "outputs": [],
   "source": [
    "import matplotlib.pyplot as plt\n",
    "import pandas as pd\n",
    "from sklearn.neighbors import KNeighborsClassifier"
   ]
  },
  {
   "cell_type": "markdown",
   "metadata": {},
   "source": [
    "## Step#02 Import iris datasets"
   ]
  },
  {
   "cell_type": "code",
   "execution_count": null,
   "metadata": {
    "collapsed": true
   },
   "outputs": [],
   "source": [
    "dataset = pd.read_csv(\"C:/Users/Ali Nawaz/Downloads/Iris.csv\")\n",
    "print(dataset.head())"
   ]
  },
  {
   "cell_type": "markdown",
   "metadata": {},
   "source": [
    "## Step#03 Prepare the data for training"
   ]
  },
  {
   "cell_type": "code",
   "execution_count": 26,
   "metadata": {
    "collapsed": true
   },
   "outputs": [],
   "source": [
    "X = dataset.loc[:, 'SepalLengthCm' : 'PetalWidthCm']\n",
    "Y = dataset.loc[:,'Species']"
   ]
  },
  {
   "cell_type": "markdown",
   "metadata": {},
   "source": [
    "## Step#04 Train the model"
   ]
  },
  {
   "cell_type": "code",
   "execution_count": null,
   "metadata": {
    "collapsed": true
   },
   "outputs": [],
   "source": [
    "knn = KNeighborsClassifier()\n",
    "knn.fit(X, Y)"
   ]
  },
  {
   "cell_type": "markdown",
   "metadata": {},
   "source": [
    "## Step#05 Test the model"
   ]
  },
  {
   "cell_type": "code",
   "execution_count": null,
   "metadata": {
    "collapsed": true
   },
   "outputs": [],
   "source": [
    "X_test = [[4.9, 7.0, 1.2, 0.2], [5.9, 2.8, 4.4, 1.4], [5.9, 2.4, 5.4, 1.0]]\n",
    "prediction = knn.predict(X_test)\n",
    "print(prediction)"
   ]
  },
  {
   "cell_type": "markdown",
   "metadata": {},
   "source": [
    "## Step#06 Plot the model"
   ]
  },
  {
   "cell_type": "code",
   "execution_count": null,
   "metadata": {
    "collapsed": true
   },
   "outputs": [],
   "source": [
    "plt.xlabel('Features')\n",
    "plt.ylabel('Class')\n",
    "X = dataset.loc[:, 'SepalLengthCm']\n",
    "Y = dataset.loc[:, 'Species']\n",
    "plt.scatter(X, Y, color='blue', label='SepalLengthCm')\n",
    "\n",
    "X = dataset.loc[:, 'SepalWidthCm']\n",
    "Y = dataset.loc[:, 'Species']\n",
    "plt.scatter(X, Y, color='black', label='SepalWidthCm')\n",
    "\n",
    "X = dataset.loc[:, 'PetalLengthCm']\n",
    "Y = dataset.loc[:, 'Species']\n",
    "plt.scatter(X, Y, color='red', label='PetalLengthCm')\n",
    "\n",
    "X = dataset.loc[:, 'PetalWidthCm']\n",
    "Y = dataset.loc[:, 'Species']\n",
    "plt.scatter(X, Y, color='green', label='PetalWidthCm')\n",
    "plt.legend(loc=4)\n",
    "plt.show()"
   ]
  }
 ],
 "metadata": {
  "kernelspec": {
   "display_name": "Python 3",
   "language": "python",
   "name": "python3"
  },
  "language_info": {
   "codemirror_mode": {
    "name": "ipython",
    "version": 3
   },
   "file_extension": ".py",
   "mimetype": "text/x-python",
   "name": "python",
   "nbconvert_exporter": "python",
   "pygments_lexer": "ipython3",
   "version": "3.6.1"
  }
 },
 "nbformat": 4,
 "nbformat_minor": 2
}
